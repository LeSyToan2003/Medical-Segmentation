{
 "cells": [
  {
   "cell_type": "markdown",
   "id": "8fe9c916",
   "metadata": {
    "papermill": {
     "duration": 0.00529,
     "end_time": "2025-03-26T16:00:19.494523",
     "exception": false,
     "start_time": "2025-03-26T16:00:19.489233",
     "status": "completed"
    },
    "tags": []
   },
   "source": [
    "# **1. LIBRARIES**"
   ]
  },
  {
   "cell_type": "code",
   "execution_count": 2,
   "id": "6bea4161",
   "metadata": {},
   "outputs": [
    {
     "name": "stdout",
     "output_type": "stream",
     "text": [
      "Requirement already satisfied: opencv-python in c:\\users\\asus pc\\anaconda3\\lib\\site-packages (4.11.0.86)Note: you may need to restart the kernel to use updated packages.\n",
      "\n",
      "Requirement already satisfied: numpy>=1.21.2 in c:\\users\\asus pc\\anaconda3\\lib\\site-packages (from opencv-python) (1.26.4)\n"
     ]
    }
   ],
   "source": [
    "%pip install opencv-python"
   ]
  },
  {
   "cell_type": "code",
   "execution_count": null,
   "id": "88f7a469",
   "metadata": {
    "_cell_guid": "b1076dfc-b9ad-4769-8c92-a6c4dae69d19",
    "_uuid": "8f2839f25d086af736a60e9eeb907d3b93b6e0e5",
    "execution": {
     "iopub.execute_input": "2025-03-26T16:00:19.505579Z",
     "iopub.status.busy": "2025-03-26T16:00:19.505212Z",
     "iopub.status.idle": "2025-03-26T16:00:21.647626Z",
     "shell.execute_reply": "2025-03-26T16:00:21.646330Z"
    },
    "papermill": {
     "duration": 2.150156,
     "end_time": "2025-03-26T16:00:21.649540",
     "exception": false,
     "start_time": "2025-03-26T16:00:19.499384",
     "status": "completed"
    },
    "tags": []
   },
   "outputs": [],
   "source": [
    "import os\n",
    "import cv2\n",
    "import random\n",
    "import numpy as np\n",
    "import matplotlib.pyplot as plt\n",
    "from fractions import Fraction\n",
    "from tqdm import tqdm\n",
    "from matplotlib.pyplot import figure\n",
    "from sklearn.model_selection import train_test_split"
   ]
  },
  {
   "cell_type": "markdown",
   "id": "1c336224",
   "metadata": {
    "papermill": {
     "duration": 0.005059,
     "end_time": "2025-03-26T16:00:21.660269",
     "exception": false,
     "start_time": "2025-03-26T16:00:21.655210",
     "status": "completed"
    },
    "tags": []
   },
   "source": [
    "# **2. DATASET**"
   ]
  },
  {
   "cell_type": "code",
   "execution_count": 2,
   "id": "93619881",
   "metadata": {
    "execution": {
     "iopub.execute_input": "2025-03-26T16:00:21.671662Z",
     "iopub.status.busy": "2025-03-26T16:00:21.671134Z",
     "iopub.status.idle": "2025-03-26T16:00:21.675535Z",
     "shell.execute_reply": "2025-03-26T16:00:21.674483Z"
    },
    "papermill": {
     "duration": 0.011728,
     "end_time": "2025-03-26T16:00:21.677205",
     "exception": false,
     "start_time": "2025-03-26T16:00:21.665477",
     "status": "completed"
    },
    "tags": []
   },
   "outputs": [],
   "source": [
    "img_size = 128"
   ]
  },
  {
   "cell_type": "code",
   "execution_count": 3,
   "id": "2c6f9ccf",
   "metadata": {
    "execution": {
     "iopub.execute_input": "2025-03-26T16:00:21.696457Z",
     "iopub.status.busy": "2025-03-26T16:00:21.696121Z",
     "iopub.status.idle": "2025-03-26T16:00:21.703742Z",
     "shell.execute_reply": "2025-03-26T16:00:21.702525Z"
    },
    "papermill": {
     "duration": 0.014824,
     "end_time": "2025-03-26T16:00:21.705522",
     "exception": false,
     "start_time": "2025-03-26T16:00:21.690698",
     "status": "completed"
    },
    "tags": []
   },
   "outputs": [],
   "source": [
    "names = []\n",
    "\n",
    "def data_loading_cxr(path):\n",
    "    names.clear()\n",
    "    for name in os.listdir(path):\n",
    "        if name == 'Thumbs.db':\n",
    "            continue\n",
    "        names.append(name)\n",
    "    names.sort()\n",
    "    \n",
    "    data = [] \n",
    "    for i in tqdm(range(len(names))):\n",
    "        name = names[i]\n",
    "        cxr = cv2.imread(os.path.join(path, name), cv2.IMREAD_GRAYSCALE)\n",
    "        cxr = cv2.resize(cxr, (img_size,img_size))\n",
    "        data.append(cxr)\n",
    "        \n",
    "    return np.array(data, dtype=int)\n",
    "\n",
    "def data_loading_mask(path):\n",
    "    data = []\n",
    "    for i in tqdm(range(len(names))):\n",
    "        name = names[i]\n",
    "        try:\n",
    "            image = cv2.imread(os.path.join(path, name), cv2.IMREAD_GRAYSCALE)\n",
    "        except Exception as e:\n",
    "            print(name)\n",
    "        image = cv2.resize(image, (img_size,img_size))\n",
    "        data.append(image)\n",
    "        \n",
    "    return np.array(data, dtype=int)"
   ]
  },
  {
   "cell_type": "code",
   "execution_count": 4,
   "id": "97d6d2c2",
   "metadata": {
    "execution": {
     "iopub.execute_input": "2025-03-26T16:00:21.716046Z",
     "iopub.status.busy": "2025-03-26T16:00:21.715626Z",
     "iopub.status.idle": "2025-03-26T16:01:16.052737Z",
     "shell.execute_reply": "2025-03-26T16:01:16.051453Z"
    },
    "papermill": {
     "duration": 54.344647,
     "end_time": "2025-03-26T16:01:16.054895",
     "exception": false,
     "start_time": "2025-03-26T16:00:21.710248",
     "status": "completed"
    },
    "tags": []
   },
   "outputs": [
    {
     "name": "stderr",
     "output_type": "stream",
     "text": [
      "100%|██████████| 3616/3616 [00:31<00:00, 114.38it/s]\n",
      "100%|██████████| 3616/3616 [00:21<00:00, 165.84it/s]\n"
     ]
    }
   ],
   "source": [
    "covid_cxr = data_loading_cxr('/kaggle/input/covid19-radiography-database/COVID-19_Radiography_Dataset/COVID/images')\n",
    "covid_mask = data_loading_mask('/kaggle/input/covid19-radiography-database/COVID-19_Radiography_Dataset/COVID/masks')\n",
    "\n",
    "train_covid_cxr, test_covid_cxr, train_covid_mask, test_covid_mask = train_test_split(covid_cxr, covid_mask, train_size=9/10, shuffle=False, random_state=42)\n",
    "\n",
    "train_covid_cxr, val_covid_cxr, train_covid_mask, val_covid_mask = train_test_split(train_covid_cxr, train_covid_mask, train_size=8/9, shuffle=False, random_state=42)\n",
    "\n",
    "train_cxr = train_covid_cxr\n",
    "train_mask = train_covid_mask\n",
    "val_cxr = val_covid_cxr\n",
    "val_mask = val_covid_mask\n",
    "test_cxr = test_covid_cxr\n",
    "test_mask = test_covid_mask\n",
    "\n",
    "del covid_cxr\n",
    "del covid_mask\n",
    "del train_covid_cxr\n",
    "del train_covid_mask\n",
    "del val_covid_cxr\n",
    "del val_covid_mask\n",
    "del test_covid_cxr\n",
    "del test_covid_mask"
   ]
  },
  {
   "cell_type": "code",
   "execution_count": 5,
   "id": "d91563b0",
   "metadata": {
    "execution": {
     "iopub.execute_input": "2025-03-26T16:01:16.120656Z",
     "iopub.status.busy": "2025-03-26T16:01:16.120306Z",
     "iopub.status.idle": "2025-03-26T16:02:55.648930Z",
     "shell.execute_reply": "2025-03-26T16:02:55.647849Z"
    },
    "papermill": {
     "duration": 99.562633,
     "end_time": "2025-03-26T16:02:55.651103",
     "exception": false,
     "start_time": "2025-03-26T16:01:16.088470",
     "status": "completed"
    },
    "tags": []
   },
   "outputs": [
    {
     "name": "stderr",
     "output_type": "stream",
     "text": [
      "100%|██████████| 6012/6012 [00:57<00:00, 105.33it/s]\n",
      "100%|██████████| 6012/6012 [00:39<00:00, 150.64it/s]\n"
     ]
    }
   ],
   "source": [
    "opacity_cxr = data_loading_cxr('/kaggle/input/covid19-radiography-database/COVID-19_Radiography_Dataset/Lung_Opacity/images')\n",
    "opacity_mask = data_loading_mask('/kaggle/input/covid19-radiography-database/COVID-19_Radiography_Dataset/Lung_Opacity/masks')\n",
    "\n",
    "train_opacity_cxr, test_opacity_cxr, train_opacity_mask, test_opacity_mask = train_test_split(opacity_cxr, opacity_mask, train_size=9/10, shuffle=False, random_state=42)\n",
    "\n",
    "train_opacity_cxr, val_opacity_cxr, train_opacity_mask, val_opacity_mask = train_test_split(train_opacity_cxr, train_opacity_mask, train_size=8/9, shuffle=False, random_state=42)\n",
    "\n",
    "train_cxr = np.concatenate((train_cxr, train_opacity_cxr), axis=0)\n",
    "train_mask = np.concatenate((train_mask, train_opacity_mask), axis=0)\n",
    "val_cxr = np.concatenate((val_cxr, val_opacity_cxr), axis=0)\n",
    "val_mask = np.concatenate((val_mask, val_opacity_mask), axis=0)\n",
    "test_cxr = np.concatenate((test_cxr, test_opacity_cxr), axis=0)\n",
    "test_mask = np.concatenate((test_mask, test_opacity_mask), axis=0)\n",
    "\n",
    "del opacity_cxr\n",
    "del opacity_mask\n",
    "del train_opacity_cxr\n",
    "del train_opacity_mask\n",
    "del val_opacity_cxr\n",
    "del val_opacity_mask\n",
    "del test_opacity_cxr\n",
    "del test_opacity_mask"
   ]
  },
  {
   "cell_type": "code",
   "execution_count": 6,
   "id": "8463f86d",
   "metadata": {
    "execution": {
     "iopub.execute_input": "2025-03-26T16:02:55.811571Z",
     "iopub.status.busy": "2025-03-26T16:02:55.811215Z",
     "iopub.status.idle": "2025-03-26T16:03:18.683595Z",
     "shell.execute_reply": "2025-03-26T16:03:18.682489Z"
    },
    "papermill": {
     "duration": 22.955636,
     "end_time": "2025-03-26T16:03:18.685622",
     "exception": false,
     "start_time": "2025-03-26T16:02:55.729986",
     "status": "completed"
    },
    "tags": []
   },
   "outputs": [
    {
     "name": "stderr",
     "output_type": "stream",
     "text": [
      "100%|██████████| 1345/1345 [00:12<00:00, 105.06it/s]\n",
      "100%|██████████| 1345/1345 [00:08<00:00, 154.71it/s]\n"
     ]
    }
   ],
   "source": [
    "pneumonia_cxr = data_loading_cxr('/kaggle/input/covid19-radiography-database/COVID-19_Radiography_Dataset/Viral Pneumonia/images')\n",
    "pneumonia_mask = data_loading_mask('/kaggle/input/covid19-radiography-database/COVID-19_Radiography_Dataset/Viral Pneumonia/masks')\n",
    "\n",
    "train_pneumonia_cxr, test_pneumonia_cxr, train_pneumonia_mask, test_pneumonia_mask = train_test_split(pneumonia_cxr, pneumonia_mask, train_size=9/10, shuffle=False, random_state=42)\n",
    "\n",
    "train_pneumonia_cxr, val_pneumonia_cxr, train_pneumonia_mask, val_pneumonia_mask = train_test_split(train_pneumonia_cxr, train_pneumonia_mask, train_size=8/9, shuffle=False, random_state=42)\n",
    "\n",
    "train_cxr = np.concatenate((train_cxr, train_pneumonia_cxr), axis=0)\n",
    "train_mask = np.concatenate((train_mask, train_pneumonia_mask), axis=0)\n",
    "val_cxr = np.concatenate((val_cxr, val_pneumonia_cxr), axis=0)\n",
    "val_mask = np.concatenate((val_mask, val_pneumonia_mask), axis=0)\n",
    "test_cxr = np.concatenate((test_cxr, test_pneumonia_cxr), axis=0)\n",
    "test_mask = np.concatenate((test_mask, test_pneumonia_mask), axis=0)\n",
    "\n",
    "del pneumonia_cxr\n",
    "del pneumonia_mask\n",
    "del train_pneumonia_cxr\n",
    "del train_pneumonia_mask\n",
    "del val_pneumonia_cxr\n",
    "del val_pneumonia_mask\n",
    "del test_pneumonia_cxr\n",
    "del test_pneumonia_mask"
   ]
  },
  {
   "cell_type": "code",
   "execution_count": 7,
   "id": "273d7c91",
   "metadata": {
    "execution": {
     "iopub.execute_input": "2025-03-26T16:03:18.866055Z",
     "iopub.status.busy": "2025-03-26T16:03:18.865690Z",
     "iopub.status.idle": "2025-03-26T16:06:02.989058Z",
     "shell.execute_reply": "2025-03-26T16:06:02.987924Z"
    },
    "papermill": {
     "duration": 164.215188,
     "end_time": "2025-03-26T16:06:02.991005",
     "exception": false,
     "start_time": "2025-03-26T16:03:18.775817",
     "status": "completed"
    },
    "tags": []
   },
   "outputs": [
    {
     "name": "stderr",
     "output_type": "stream",
     "text": [
      "100%|██████████| 10192/10192 [01:34<00:00, 107.29it/s]\n",
      "100%|██████████| 10192/10192 [01:04<00:00, 159.14it/s]\n"
     ]
    }
   ],
   "source": [
    "normal_cxr = data_loading_cxr('/kaggle/input/covid19-radiography-database/COVID-19_Radiography_Dataset/Normal/images')\n",
    "normal_mask = data_loading_mask('/kaggle/input/covid19-radiography-database/COVID-19_Radiography_Dataset/Normal/masks')\n",
    "\n",
    "train_normal_cxr, test_normal_cxr, train_normal_mask, test_normal_mask = train_test_split(normal_cxr, normal_mask, train_size=9/10, shuffle=False, random_state=42)\n",
    "\n",
    "train_normal_cxr, val_normal_cxr, train_normal_mask, val_normal_mask = train_test_split(train_normal_cxr, train_normal_mask, train_size=8/9, shuffle=False, random_state=42)\n",
    "\n",
    "train_cxr = np.concatenate((train_cxr, train_normal_cxr), axis=0)\n",
    "train_mask = np.concatenate((train_mask, train_normal_mask), axis=0)\n",
    "val_cxr = np.concatenate((val_cxr, val_normal_cxr), axis=0)\n",
    "val_mask = np.concatenate((val_mask, val_normal_mask), axis=0)\n",
    "test_cxr = np.concatenate((test_cxr, test_normal_cxr), axis=0)\n",
    "test_mask = np.concatenate((test_mask, test_normal_mask), axis=0)\n",
    "\n",
    "del normal_cxr\n",
    "del normal_mask\n",
    "del train_normal_cxr\n",
    "del train_normal_mask\n",
    "del val_normal_cxr\n",
    "del val_normal_mask\n",
    "del test_normal_cxr\n",
    "del test_normal_mask"
   ]
  },
  {
   "cell_type": "code",
   "execution_count": 8,
   "id": "7f2d58c8",
   "metadata": {
    "execution": {
     "iopub.execute_input": "2025-03-26T16:06:03.336667Z",
     "iopub.status.busy": "2025-03-26T16:06:03.336293Z",
     "iopub.status.idle": "2025-03-26T16:06:03.342089Z",
     "shell.execute_reply": "2025-03-26T16:06:03.341091Z"
    },
    "papermill": {
     "duration": 0.181249,
     "end_time": "2025-03-26T16:06:03.343879",
     "exception": false,
     "start_time": "2025-03-26T16:06:03.162630",
     "status": "completed"
    },
    "tags": []
   },
   "outputs": [
    {
     "name": "stdout",
     "output_type": "stream",
     "text": [
      "(16927, 128, 128)\n",
      "(16927, 128, 128)\n",
      "(2119, 128, 128)\n",
      "(2119, 128, 128)\n",
      "(2119, 128, 128)\n",
      "(2119, 128, 128)\n"
     ]
    }
   ],
   "source": [
    "print(np.shape(train_cxr))\n",
    "print(np.shape(train_mask))\n",
    "print(np.shape(val_cxr))\n",
    "print(np.shape(val_mask))\n",
    "print(np.shape(test_cxr))\n",
    "print(np.shape(test_mask))"
   ]
  },
  {
   "cell_type": "code",
   "execution_count": 9,
   "id": "ac76b1fa",
   "metadata": {
    "execution": {
     "iopub.execute_input": "2025-03-26T16:06:03.687105Z",
     "iopub.status.busy": "2025-03-26T16:06:03.686719Z",
     "iopub.status.idle": "2025-03-26T16:06:10.479014Z",
     "shell.execute_reply": "2025-03-26T16:06:10.477772Z"
    },
    "papermill": {
     "duration": 6.966275,
     "end_time": "2025-03-26T16:06:10.481793",
     "exception": false,
     "start_time": "2025-03-26T16:06:03.515518",
     "status": "completed"
    },
    "tags": []
   },
   "outputs": [],
   "source": [
    "os.makedirs('/kaggle/working/without_convexhull/train', exist_ok=True)\n",
    "np.save('/kaggle/working/without_convexhull/train/cxr.npy', train_cxr)\n",
    "\n",
    "os.makedirs('/kaggle/working/without_convexhull/train', exist_ok=True)\n",
    "np.save('/kaggle/working/without_convexhull/train/mask.npy', train_mask)\n",
    "\n",
    "os.makedirs('/kaggle/working/without_convexhull/val', exist_ok=True)\n",
    "np.save('/kaggle/working/without_convexhull/val/cxr.npy', val_cxr)\n",
    "\n",
    "os.makedirs('/kaggle/working/without_convexhull/val', exist_ok=True)\n",
    "np.save('/kaggle/working/without_convexhull/val/mask.npy', val_mask)\n",
    "\n",
    "os.makedirs('/kaggle/working/without_convexhull/test', exist_ok=True)\n",
    "np.save('/kaggle/working/without_convexhull/test/cxr.npy', test_cxr)\n",
    "\n",
    "os.makedirs('/kaggle/working/without_convexhull/test', exist_ok=True)\n",
    "np.save('/kaggle/working/without_convexhull/test/mask.npy', test_mask)"
   ]
  }
 ],
 "metadata": {
  "kaggle": {
   "accelerator": "none",
   "dataSources": [
    {
     "datasetId": 108201,
     "sourceId": 258315,
     "sourceType": "datasetVersion"
    },
    {
     "datasetId": 1210221,
     "sourceId": 3122958,
     "sourceType": "datasetVersion"
    },
    {
     "datasetId": 576013,
     "sourceId": 3324348,
     "sourceType": "datasetVersion"
    }
   ],
   "dockerImageVersionId": 30822,
   "isGpuEnabled": false,
   "isInternetEnabled": true,
   "language": "python",
   "sourceType": "notebook"
  },
  "kernelspec": {
   "display_name": "base",
   "language": "python",
   "name": "python3"
  },
  "language_info": {
   "codemirror_mode": {
    "name": "ipython",
    "version": 3
   },
   "file_extension": ".py",
   "mimetype": "text/x-python",
   "name": "python",
   "nbconvert_exporter": "python",
   "pygments_lexer": "ipython3",
   "version": "3.12.7"
  },
  "papermill": {
   "default_parameters": {},
   "duration": 1515.813845,
   "end_time": "2025-03-26T16:25:32.304069",
   "environment_variables": {},
   "exception": null,
   "input_path": "__notebook__.ipynb",
   "output_path": "__notebook__.ipynb",
   "parameters": {},
   "start_time": "2025-03-26T16:00:16.490224",
   "version": "2.6.0"
  }
 },
 "nbformat": 4,
 "nbformat_minor": 5
}
